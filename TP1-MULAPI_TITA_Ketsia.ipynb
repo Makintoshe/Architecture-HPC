{
 "cells": [
  {
   "cell_type": "markdown",
   "id": "determined-convert",
   "metadata": {},
   "source": [
    "## TP1 HPC - travail réalisé par MULAPI TITA Ketsia"
   ]
  },
  {
   "cell_type": "markdown",
   "id": "respected-newton",
   "metadata": {},
   "source": [
    "#### pour les 2 derniers TP, je compte travailler avec Joseph El Kettaneh comme binôme."
   ]
  },
  {
   "cell_type": "code",
   "execution_count": 16,
   "id": "honey-furniture",
   "metadata": {},
   "outputs": [],
   "source": [
    "import numpy as np"
   ]
  },
  {
   "cell_type": "code",
   "execution_count": 17,
   "id": "written-arnold",
   "metadata": {},
   "outputs": [],
   "source": [
    "# initialise une\n",
    "def init_grid(n):\n",
    "    grid = np.random.randint(2,size=(n,n))\n",
    "    return grid"
   ]
  },
  {
   "cell_type": "code",
   "execution_count": 18,
   "id": "advised-valve",
   "metadata": {},
   "outputs": [],
   "source": [
    "def get_nbneigh(grid,coord):\n",
    "    irange=len(grid)\n",
    "    jrange=len(grid[0])\n",
    "    i=coord[0]\n",
    "    j=coord[1]\n",
    "    biinf=max(0,i-1)\n",
    "    bisup=min(irange-1,i+1)\n",
    "    bjinf=max(0,j-1)\n",
    "    bjsup=min(jrange-1,j+1)\n",
    "    nb_neigh=0\n",
    "    # loop over neighs to count living cells\n",
    "    for ii in range(biinf,bisup+1):\n",
    "        for jj in range(bjinf,bjsup+1):\n",
    "            if grid[ii][jj] == 1:\n",
    "                nb_neigh=nb_neigh+1\n",
    "    # in my count I count current cell itself substract the value\n",
    "    nb_neigh=nb_neigh-grid[i][j]\n",
    "    return nb_neigh"
   ]
  },
  {
   "cell_type": "code",
   "execution_count": 19,
   "id": "divine-wound",
   "metadata": {},
   "outputs": [],
   "source": [
    "def evolution1(grid):\n",
    "    irange=len(grid)\n",
    "    jrange=len(grid[0])\n",
    "    res_grid=[[] for i in range(irange)]\n",
    "    for j in range(jrange):\n",
    "        for i in range(irange):\n",
    "            # by default cell_state is dead\n",
    "            cell_state=0\n",
    "            # loop over neighs to count living cells\n",
    "            nb_neigh=get_nbneigh(grid,(i,j))\n",
    "            # if 2 neighbors cell state isn't modified\n",
    "            if nb_neigh==2:\n",
    "                cell_state=grid[i][j]\n",
    "            # if 3 neighbors cell state is alive\n",
    "            elif nb_neigh==3:\n",
    "                cell_state=1\n",
    "            # in other case cell state is dead (default state)\n",
    "            res_grid[i].append(cell_state)\n",
    "    return res_grid"
   ]
  },
  {
   "cell_type": "markdown",
   "id": "egyptian-challenge",
   "metadata": {},
   "source": [
    "Estimation des temps de restitution pour 10 x 10 100 x 100 et 1000 x 1000"
   ]
  },
  {
   "cell_type": "code",
   "execution_count": 9,
   "id": "experimental-switzerland",
   "metadata": {},
   "outputs": [
    {
     "name": "stdout",
     "output_type": "stream",
     "text": [
      "1.28 ms ± 1.05 µs per loop (mean ± std. dev. of 7 runs, 1000 loops each)\n"
     ]
    }
   ],
   "source": [
    "grid = init_grid(10)\n",
    "%timeit evolution1(grid)"
   ]
  },
  {
   "cell_type": "code",
   "execution_count": 10,
   "id": "dying-customer",
   "metadata": {},
   "outputs": [
    {
     "name": "stdout",
     "output_type": "stream",
     "text": [
      "144 ms ± 6.78 ms per loop (mean ± std. dev. of 7 runs, 10 loops each)\n"
     ]
    }
   ],
   "source": [
    "grid = init_grid(100)\n",
    "%timeit evolution1(grid)"
   ]
  },
  {
   "cell_type": "code",
   "execution_count": 11,
   "id": "bacterial-preliminary",
   "metadata": {},
   "outputs": [
    {
     "name": "stdout",
     "output_type": "stream",
     "text": [
      "14.9 s ± 645 ms per loop (mean ± std. dev. of 7 runs, 1 loop each)\n"
     ]
    }
   ],
   "source": [
    "grid = init_grid(1000)\n",
    "%timeit evolution1(grid)"
   ]
  },
  {
   "cell_type": "markdown",
   "id": "removable-success",
   "metadata": {},
   "source": [
    "le temps de restitution réduit les performances au fur et à mesure que l'on test notre code sur une grille beaucoup plus de temps !!"
   ]
  },
  {
   "cell_type": "markdown",
   "id": "caroline-trinity",
   "metadata": {},
   "source": [
    "# Profilage"
   ]
  },
  {
   "cell_type": "markdown",
   "id": "medium-cyprus",
   "metadata": {},
   "source": [
    "### Utiliser cProfile afin d’identifier les fonctions les plus coûteuses (sur des grilles 2000x2000)"
   ]
  },
  {
   "cell_type": "code",
   "execution_count": 20,
   "id": "sublime-sellers",
   "metadata": {},
   "outputs": [],
   "source": [
    "grid = init_grid(2000)"
   ]
  },
  {
   "cell_type": "code",
   "execution_count": 21,
   "id": "technological-produce",
   "metadata": {},
   "outputs": [
    {
     "name": "stdout",
     "output_type": "stream",
     "text": [
      "         32000007 function calls in 71.450 seconds\n",
      "\n",
      "   Ordered by: standard name\n",
      "\n",
      "   ncalls  tottime  percall  cumtime  percall filename:lineno(function)\n",
      "  4000000   56.788    0.000   62.687    0.000 <ipython-input-18-1f759ff32ce4>:1(get_nbneigh)\n",
      "        1    7.854    7.854   71.372   71.372 <ipython-input-19-ceec1b2be83c>:1(evolution1)\n",
      "        1    0.021    0.021    0.021    0.021 <ipython-input-19-ceec1b2be83c>:4(<listcomp>)\n",
      "        1    0.078    0.078   71.450   71.450 <string>:1(<module>)\n",
      "        1    0.000    0.000   71.450   71.450 {built-in method builtins.exec}\n",
      "  8000002    1.173    0.000    1.173    0.000 {built-in method builtins.len}\n",
      "  8000000    2.467    0.000    2.467    0.000 {built-in method builtins.max}\n",
      "  8000000    2.260    0.000    2.260    0.000 {built-in method builtins.min}\n",
      "  4000000    0.810    0.000    0.810    0.000 {method 'append' of 'list' objects}\n",
      "        1    0.000    0.000    0.000    0.000 {method 'disable' of '_lsprof.Profiler' objects}\n",
      "\n",
      "\n"
     ]
    }
   ],
   "source": [
    "import cProfile\n",
    "cProfile.run(\"evolution1(grid)\") #important de mettre entre guillemets l'instruction à éxécuter\n",
    "#%prun -D evol1.prof evolution1(grid)"
   ]
  },
  {
   "cell_type": "code",
   "execution_count": 23,
   "id": "sought-synthesis",
   "metadata": {},
   "outputs": [
    {
     "name": "stdout",
     "output_type": "stream",
     "text": [
      " \n",
      "*** Profile stats marshalled to file 'evol1.prof'. \n"
     ]
    }
   ],
   "source": [
    "%prun -D evol1.prof evolution1(grid)"
   ]
  },
  {
   "cell_type": "markdown",
   "id": "choice-switzerland",
   "metadata": {},
   "source": [
    "l'inlining n'est pas non plus autant optimisé !!"
   ]
  },
  {
   "cell_type": "markdown",
   "id": "durable-store",
   "metadata": {},
   "source": [
    "# . Créer une fonction evolution1_corr qui est une intégration du corps de get_nbneigh dans evolution1"
   ]
  },
  {
   "cell_type": "code",
   "execution_count": 25,
   "id": "hazardous-amplifier",
   "metadata": {},
   "outputs": [],
   "source": [
    "def evolution1_corr(grid):\n",
    "    irange=grid.shape[0]\n",
    "    jrange=grid.shape[1]\n",
    "    res_grid=[[] for i in range(irange)]\n",
    "    for j in range(jrange):\n",
    "        for i in range(irange):\n",
    "            # by default cell_state is dead\n",
    "            cell_state=0\n",
    "            # loop over neighs to count living cells\n",
    "            biinf=max(0,i-1)\n",
    "            bisup=min(irange-1,i+1)\n",
    "            bjinf=max(0,j-1)\n",
    "            bjsup=min(jrange-1,j+1)\n",
    "            nb_neigh=0\n",
    "            # loop over neighs to count living cells\n",
    "            for ii in range(biinf,bisup+1):\n",
    "                for jj in range(bjinf,bjsup+1):\n",
    "                    if grid[ii][jj] == 1:\n",
    "                        nb_neigh=nb_neigh+1\n",
    "            # in my count I count current cell itself substract the value\n",
    "            nb_neigh=nb_neigh-grid[i][j]\n",
    "            # if 2 neighbors cell state isn't modified\n",
    "            if nb_neigh==2:\n",
    "                cell_state=grid[i][j]\n",
    "            # if 3 neighbors cell state is alive\n",
    "            elif nb_neigh==3:\n",
    "                cell_state=1\n",
    "            # in other case cell state is dead (default state)\n",
    "            res_grid[i].append(cell_state)\n",
    "    return res_grid"
   ]
  },
  {
   "cell_type": "markdown",
   "id": "unnecessary-algorithm",
   "metadata": {},
   "source": [
    "### Utiliser de nouveau cProfile afin d’estimer un potentiel gain"
   ]
  },
  {
   "cell_type": "code",
   "execution_count": 26,
   "id": "saved-development",
   "metadata": {},
   "outputs": [
    {
     "name": "stdout",
     "output_type": "stream",
     "text": [
      "         20000005 function calls in 62.884 seconds\n",
      "\n",
      "   Ordered by: standard name\n",
      "\n",
      "   ncalls  tottime  percall  cumtime  percall filename:lineno(function)\n",
      "        1   57.805   57.805   62.809   62.809 <ipython-input-25-4661d96cf506>:1(evolution1_corr)\n",
      "        1    0.000    0.000    0.000    0.000 <ipython-input-25-4661d96cf506>:4(<listcomp>)\n",
      "        1    0.074    0.074   62.884   62.884 <string>:1(<module>)\n",
      "        1    0.000    0.000   62.884   62.884 {built-in method builtins.exec}\n",
      "  8000000    2.225    0.000    2.225    0.000 {built-in method builtins.max}\n",
      "  8000000    2.120    0.000    2.120    0.000 {built-in method builtins.min}\n",
      "  4000000    0.658    0.000    0.658    0.000 {method 'append' of 'list' objects}\n",
      "        1    0.000    0.000    0.000    0.000 {method 'disable' of '_lsprof.Profiler' objects}\n",
      "\n",
      "\n"
     ]
    }
   ],
   "source": [
    "cProfile.run(\"evolution1_corr(grid)\") #important de mettre entre guillemets l'instruction à éxécuter\n",
    "#%prun -D evol1.prof evolution1(grid)"
   ]
  },
  {
   "cell_type": "markdown",
   "id": "western-leadership",
   "metadata": {},
   "source": [
    "# À partir de evolution1_corr, écrire une fonction evolution1_ndarray qui modifie la structure de données de res_grid afin d’utiliser un ndarray 2D"
   ]
  },
  {
   "cell_type": "code",
   "execution_count": 27,
   "id": "brave-worse",
   "metadata": {},
   "outputs": [],
   "source": [
    "def evolution1_ndarray(grid):\n",
    "    irange=grid.shape[0]\n",
    "    jrange=grid.shape[1]\n",
    "    res_grid=np.zeros((irange,jrange))\n",
    "            \n",
    "        # à compléter ...\n",
    "        \n",
    "        res_grid[i,j]=cell_state\n",
    "    return res_grid"
   ]
  },
  {
   "cell_type": "markdown",
   "id": "logical-edwards",
   "metadata": {},
   "source": [
    "# Quels impacts sur les performances du code ?"
   ]
  },
  {
   "cell_type": "code",
   "execution_count": null,
   "id": "indie-hospital",
   "metadata": {},
   "outputs": [],
   "source": [
    "print(\"sur une grille 10 x 10\")\n",
    "\n",
    "%timeit evolution1_ndarray(10)\n",
    "\n",
    "print(\"analyse de la focntion\")\n",
    "\n",
    "%timeit evolution1_ndarray(grid)\n",
    "\n",
    "%time evolution1_ndarray(grid)\n",
    "\n",
    "cProfile.run(\"evolution1_ndarray(grid)\") #important de mettre entre guillemets l'instruction à éxécuter\n",
    "\n",
    "%prun -D evol1.prof evolution1_ndarray(grid)"
   ]
  }
 ],
 "metadata": {
  "kernelspec": {
   "display_name": "conda_python3",
   "language": "python",
   "name": "conda_python3"
  },
  "language_info": {
   "codemirror_mode": {
    "name": "ipython",
    "version": 3
   },
   "file_extension": ".py",
   "mimetype": "text/x-python",
   "name": "python",
   "nbconvert_exporter": "python",
   "pygments_lexer": "ipython3",
   "version": "3.6.13"
  }
 },
 "nbformat": 4,
 "nbformat_minor": 5
}
